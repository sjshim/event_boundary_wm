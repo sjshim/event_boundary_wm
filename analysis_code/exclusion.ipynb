{
 "cells": [
  {
   "cell_type": "code",
   "execution_count": 1,
   "metadata": {},
   "outputs": [],
   "source": [
    "import os\n",
    "import glob\n",
    "import pandas as pd\n",
    "import matplotlib.pyplot as plt\n",
    "import numpy as np\n",
    "import seaborn as sns"
   ]
  },
  {
   "cell_type": "code",
   "execution_count": 2,
   "metadata": {},
   "outputs": [],
   "source": [
    "exp1_path = '../data/Exp 1/data/cleaned/'\n",
    "exp2a_path = '../data/Exp 2a/data/cleaned/'\n",
    "exp2b_path = '../data/Exp 2b/data/cleaned/'"
   ]
  },
  {
   "cell_type": "code",
   "execution_count": 3,
   "metadata": {},
   "outputs": [
    {
     "name": "stdout",
     "output_type": "stream",
     "text": [
      "Exp1 total:  80\n",
      "Exp2a total:  137\n",
      "Exp2a background:  55\n",
      "Exp2a nBack:  82\n",
      "Exp2b total:  132\n",
      "Exp2b background:  68\n",
      "Exp2b nBack:  64\n"
     ]
    }
   ],
   "source": [
    "#Grab total number of participants for each study\n",
    "exp1_data = glob.glob(exp1_path+'*.csv')\n",
    "print(\"Exp1 total: \", len(exp1_data))\n",
    "\n",
    "def get_participants_per_cond(list_of_data):\n",
    "    background = []\n",
    "    nBack = []\n",
    "    for f_name in list_of_data:\n",
    "        if 'task-background' in f_name:\n",
    "            background.append(f_name)\n",
    "        elif 'task-2back' in f_name:\n",
    "            nBack.append(f_name)\n",
    "    return background, nBack\n",
    "exp2a_data = glob.glob(exp2a_path+'*.csv')\n",
    "exp2a_background, exp2a_nBack = get_participants_per_cond(exp2a_data)\n",
    "print(\"Exp2a total: \", len(exp2a_data))\n",
    "print(\"Exp2a background: \", len(exp2a_background))\n",
    "print(\"Exp2a nBack: \", len(exp2a_nBack))\n",
    "\n",
    "exp2b_data = glob.glob(exp2b_path+'*.csv')\n",
    "exp2b_background, exp2b_nBack = get_participants_per_cond(exp2b_data)\n",
    "print(\"Exp2b total: \", len(exp2b_data))\n",
    "print(\"Exp2b background: \", len(exp2b_background))\n",
    "print(\"Exp2b nBack: \", len(exp2b_nBack))\n"
   ]
  },
  {
   "cell_type": "code",
   "execution_count": 4,
   "metadata": {},
   "outputs": [],
   "source": [
    "#Create dictionary to store excluded files and reasons\n",
    "exclusion_dict = {}\n",
    "exclusion_dict['f_name'] = []\n",
    "exclusion_dict['exclusion_criteria'] = []"
   ]
  },
  {
   "cell_type": "code",
   "execution_count": 5,
   "metadata": {},
   "outputs": [],
   "source": [
    "def exp2_conditional(df):\n",
    "    df = df[['pictures', 'key_resp.corr', 'answer']].dropna()\n",
    "    pic = df[\"pictures\"].values.tolist()\n",
    "    corr = df[\"key_resp.corr\"].values.tolist()\n",
    "    press = df['answer'].sum()\n",
    "    nback_only = []\n",
    "    clock_only = []\n",
    "    both = []\n",
    "    i = 0\n",
    "    for count in range(6*9):\n",
    "        pool = []\n",
    "        for n in range(6):\n",
    "            if n+i > 1:\n",
    "                if pic[n+i] in pool:\n",
    "                    if pic[n+i] == pic[n+i-2]:\n",
    "                        both.append(corr[n+i])\n",
    "                    else:\n",
    "                        clock_only.append(corr[n+i])\n",
    "                elif pic[n+i] not in pool:\n",
    "                    if pic[n+i] == pic[n+i-2]:\n",
    "                        nback_only.append(corr[n+i])\n",
    "            pool.append(pic[n+i])\n",
    "        i = i + 6\n",
    "    nback_acc = sum(nback_only) / len(nback_only)\n",
    "    clock_acc = sum(clock_only) / len(clock_only)\n",
    "    both_acc = sum(both) / len(both)\n",
    "\n",
    "    return nback_acc, clock_acc, both_acc, len(nback_only)+len(both), len(clock_only)+len(both), [len(nback_only), len(clock_only), len(both)]"
   ]
  },
  {
   "cell_type": "code",
   "execution_count": 6,
   "metadata": {},
   "outputs": [],
   "source": [
    "def get_present_accuracy(df):\n",
    "    return df['key_resp.corr'].sum()/len(df['key_resp.corr'].dropna())"
   ]
  },
  {
   "cell_type": "code",
   "execution_count": 7,
   "metadata": {},
   "outputs": [],
   "source": [
    "def visualize_accuracy_hist(list_of_acc, title):\n",
    "\n",
    "    # Create a figure and axis\n",
    "    fig, ax = plt.subplots()\n",
    "    ax.hist(list_of_acc, bins=10, edgecolor = 'black')\n",
    "\n",
    "\n",
    "    # Set the titles for the axes and the plot\n",
    "    ax.set_xlabel('Accuracy')\n",
    "    ax.set_ylabel('Count')\n",
    "    ax.set_title(title)\n",
    "\n",
    "# Display the plot\n",
    "    plt.show()\n"
   ]
  },
  {
   "cell_type": "code",
   "execution_count": 8,
   "metadata": {},
   "outputs": [],
   "source": [
    "def overall_acc(path, title, exp1 = False, add_to_exclusion_dict = True, excluded_files = []):\n",
    "    files = glob.glob(path+'*.csv')\n",
    "    print('len files = ', len(files))\n",
    "    if exp1:\n",
    "        files = [i for i in files if '2back' not in i]\n",
    "    low_acc = []\n",
    "    high_acc = []\n",
    "    all_accuracys = []\n",
    "    for f_name in files:\n",
    "        if f_name not in excluded_files:\n",
    "            df = pd.read_csv(f_name)\n",
    "            #file = os.path.basename(f_name)\n",
    "            acc = get_present_accuracy(df)\n",
    "            all_accuracys.append(acc)\n",
    "            if acc < 0.9:\n",
    "                low_acc.append(f_name)\n",
    "                exclusion_dict['f_name'].append(f_name)\n",
    "                exclusion_dict['exclusion_criteria'].append('present_accuracy < 90%')\n",
    "            else:\n",
    "                high_acc.append(f_name)\n",
    "\n",
    "    print('Total N = ', len(all_accuracys))\n",
    "    print('Average accuracy: ', sum(all_accuracys)/len(all_accuracys))\n",
    "    print('# of participants with acc below 90% = ', len(low_acc))\n",
    "    print('Accuracy Histogram')\n",
    "    visualize_accuracy_hist(all_accuracys, title)\n"
   ]
  },
  {
   "cell_type": "code",
   "execution_count": 9,
   "metadata": {},
   "outputs": [
    {
     "name": "stdout",
     "output_type": "stream",
     "text": [
      "len files =  80\n",
      "Total N =  80\n",
      "Average accuracy:  0.9432870370370375\n",
      "# of participants with acc below 90% =  9\n",
      "Accuracy Histogram\n"
     ]
    },
    {
     "data": {
      "image/png": "[encoded data removed]",
      "text/plain": [
       "<Figure size 432x288 with 1 Axes>"
      ]
     },
     "metadata": {
      "needs_background": "light"
     },
     "output_type": "display_data"
    },
    {
     "name": "stdout",
     "output_type": "stream",
     "text": [
      "len files =  137\n",
      "Total N =  137\n",
      "Average accuracy:  0.9080832657474996\n",
      "# of participants with acc below 90% =  54\n",
      "Accuracy Histogram\n"
     ]
    },
    {
     "data": {
      "image/png": "[encoded data removed]",
      "text/plain": [
       "<Figure size 432x288 with 1 Axes>"
      ]
     },
     "metadata": {
      "needs_background": "light"
     },
     "output_type": "display_data"
    },
    {
     "name": "stdout",
     "output_type": "stream",
     "text": [
      "len files =  132\n",
      "Total N =  132\n",
      "Average accuracy:  0.9259025439580995\n",
      "# of participants with acc below 90% =  44\n",
      "Accuracy Histogram\n"
     ]
    },
    {
     "data": {
      "image/png": "[encoded data removed]",
      "text/plain": [
       "<Figure size 432x288 with 1 Axes>"
      ]
     },
     "metadata": {
      "needs_background": "light"
     },
     "output_type": "display_data"
    }
   ],
   "source": [
    "#Plot accuracy for each study and exclude participants with accuracy below 90%\n",
    "overall_acc(exp1_path, 'Exp 1 Accuracy', True)\n",
    "overall_acc(exp2a_path, 'Exp 2a Accuracy')\n",
    "overall_acc(exp2b_path, 'Exp 2b Accuracy')"
   ]
  },
  {
   "cell_type": "markdown",
   "metadata": {},
   "source": [
    "**Experiment 2a and 2b exclusions**"
   ]
  },
  {
   "cell_type": "code",
   "execution_count": 10,
   "metadata": {},
   "outputs": [
    {
     "name": "stdout",
     "output_type": "stream",
     "text": [
      "Exp 2 nBack exclusion count:  29\n",
      "Exp 2 background exclusion count:  24\n"
     ]
    }
   ],
   "source": [
    "#Exp 2a\n",
    "#exclude based on conditional performance\n",
    "nback_present_phase_acc = []\n",
    "background_present_phase_acc = []\n",
    "background_acc_list = []\n",
    "nback_acc_list = []\n",
    "nback_exclusion_count = 0\n",
    "background_exclusion_count = 0\n",
    "nback_all_count = 0\n",
    "background_all_count = 0\n",
    "\n",
    "exp2a_data = glob.glob(exp2a_path+'*csv')\n",
    "for f_name in exp2a_data:\n",
    "    df = pd.read_csv(f_name)\n",
    "    #file = os.path.basename(f_name)\n",
    "    nback_acc, background_acc, both_acc, nback_press, background_press, check = exp2_conditional(df)\n",
    "    present_phase_acc = get_present_accuracy(df)\n",
    "    if '2back' in f_name:\n",
    "        nback_all_count += 1\n",
    "        nback_present_phase_acc.append(present_phase_acc)\n",
    "        background_acc_list.append(background_acc)\n",
    "        if background_acc < 0.5:\n",
    "            exclusion_dict['f_name'].append(f_name)\n",
    "            exclusion_dict['exclusion_criteria'].append('background_accuracy < 50%')\n",
    "            nback_exclusion_count += 1\n",
    "    elif 'background' in f_name:\n",
    "        background_all_count += 1\n",
    "        background_present_phase_acc.append(present_phase_acc)\n",
    "        nback_acc_list.append(nback_acc)\n",
    "        if nback_acc < 0.5:\n",
    "            exclusion_dict['f_name'].append(f_name)\n",
    "            exclusion_dict['exclusion_criteria'].append('2back_accuracy < 50%')\n",
    "            background_exclusion_count += 1\n",
    "\n",
    "print('Exp 2 nBack exclusion count: ', nback_exclusion_count)\n",
    "print('Exp 2 background exclusion count: ', background_exclusion_count)"
   ]
  },
  {
   "cell_type": "code",
   "execution_count": 11,
   "metadata": {},
   "outputs": [
    {
     "data": {
      "image/png": "[encoded data removed]",
      "text/plain": [
       "<Figure size 432x288 with 1 Axes>"
      ]
     },
     "metadata": {
      "needs_background": "light"
     },
     "output_type": "display_data"
    },
    {
     "data": {
      "image/png": "[encoded data removed]",
      "text/plain": [
       "<Figure size 432x288 with 1 Axes>"
      ]
     },
     "metadata": {
      "needs_background": "light"
     },
     "output_type": "display_data"
    },
    {
     "data": {
      "image/png": "[encoded data removed]",
      "text/plain": [
       "<Figure size 432x288 with 1 Axes>"
      ]
     },
     "metadata": {
      "needs_background": "light"
     },
     "output_type": "display_data"
    },
    {
     "name": "stdout",
     "output_type": "stream",
     "text": [
      "Number of participants excluded based on conditional accuracy:  24\n",
      "Total participants left for analysis:  31\n"
     ]
    },
    {
     "data": {
      "image/png": "[encoded data removed]",
      "text/plain": [
       "<Figure size 432x288 with 1 Axes>"
      ]
     },
     "metadata": {
      "needs_background": "light"
     },
     "output_type": "display_data"
    },
    {
     "name": "stdout",
     "output_type": "stream",
     "text": [
      "Number of participants excluded based on conditional accuracy:  29\n",
      "Total participants left for analysis:  53\n"
     ]
    }
   ],
   "source": [
    "visualize_accuracy_hist(nback_present_phase_acc, 'Overall Accuracy of 2-back condition')\n",
    "visualize_accuracy_hist(background_present_phase_acc, 'Overall Accuracy of Background condition')\n",
    "visualize_accuracy_hist(nback_acc_list, 'Exp 2.a: Accuracy of Background condition, 2-back only trials')\n",
    "print('Number of participants excluded based on conditional accuracy: ', background_exclusion_count)\n",
    "print('Total participants left for analysis: ', len(background_present_phase_acc)-background_exclusion_count)\n",
    "visualize_accuracy_hist(background_acc_list, 'Exp 2.a: Accuracy of 2-back condition, background only trials')\n",
    "print('Number of participants excluded based on conditional accuracy: ', nback_exclusion_count)\n",
    "print('Total participants left for analysis: ', len(nback_present_phase_acc)-nback_exclusion_count)\n"
   ]
  },
  {
   "cell_type": "code",
   "execution_count": 12,
   "metadata": {},
   "outputs": [
    {
     "name": "stdout",
     "output_type": "stream",
     "text": [
      "Exp 2b nBack exclusion count:  12\n",
      "Exp 2b background exclusion count:  34\n"
     ]
    }
   ],
   "source": [
    "#exclude based on conditional performance\n",
    "nback_present_phase_acc = []\n",
    "background_present_phase_acc = []\n",
    "background_acc_list = []\n",
    "nback_acc_list = []\n",
    "nback_exclusion_count = 0\n",
    "background_exclusion_count = 0\n",
    "\n",
    "exp2b_data = glob.glob(exp2b_path+'*csv')\n",
    "for f_name in exp2b_data:\n",
    "    df = pd.read_csv(f_name)\n",
    "    #file = os.path.basename(f_name)\n",
    "    nback_acc, background_acc, both_acc, nback_press, background_press, check = exp2_conditional(df)\n",
    "    present_phase_acc = get_present_accuracy(df)\n",
    "    if '2back' in f_name:\n",
    "        nback_present_phase_acc.append(present_phase_acc)\n",
    "        background_acc_list.append(background_acc)\n",
    "        if background_acc < 0.5:\n",
    "            exclusion_dict['f_name'].append(f_name)\n",
    "            exclusion_dict['exclusion_criteria'].append('background_accuracy < 50%')\n",
    "            nback_exclusion_count += 1\n",
    "    if 'background' in f_name:\n",
    "        background_present_phase_acc.append(present_phase_acc)\n",
    "        nback_acc_list.append(nback_acc)\n",
    "        if nback_acc < 0.5:\n",
    "            exclusion_dict['f_name'].append(f_name)\n",
    "            exclusion_dict['exclusion_criteria'].append('2back_accuracy < 50%')\n",
    "            background_exclusion_count += 1\n",
    "\n",
    "print('Exp 2b nBack exclusion count: ', nback_exclusion_count)\n",
    "print('Exp 2b background exclusion count: ', background_exclusion_count)\n"
   ]
  },
  {
   "cell_type": "code",
   "execution_count": 13,
   "metadata": {},
   "outputs": [
    {
     "data": {
      "image/png": "[encoded data removed]",
      "text/plain": [
       "<Figure size 432x288 with 1 Axes>"
      ]
     },
     "metadata": {
      "needs_background": "light"
     },
     "output_type": "display_data"
    },
    {
     "data": {
      "image/png": "[encoded data removed]",
      "text/plain": [
       "<Figure size 432x288 with 1 Axes>"
      ]
     },
     "metadata": {
      "needs_background": "light"
     },
     "output_type": "display_data"
    },
    {
     "data": {
      "image/png": "[encoded data removed]",
      "text/plain": [
       "<Figure size 432x288 with 1 Axes>"
      ]
     },
     "metadata": {
      "needs_background": "light"
     },
     "output_type": "display_data"
    },
    {
     "name": "stdout",
     "output_type": "stream",
     "text": [
      "Number of participants excluded based on conditional accuracy:  34\n",
      "Total participants left for analysis:  34\n"
     ]
    },
    {
     "data": {
      "image/png": "[encoded data removed]",
      "text/plain": [
       "<Figure size 432x288 with 1 Axes>"
      ]
     },
     "metadata": {
      "needs_background": "light"
     },
     "output_type": "display_data"
    },
    {
     "name": "stdout",
     "output_type": "stream",
     "text": [
      "Number of participants excluded based on conditional accuracy:  12\n",
      "Total participants left for analysis:  52\n"
     ]
    }
   ],
   "source": [
    "visualize_accuracy_hist(nback_present_phase_acc, 'Overall Accuracy of 2-back condition')\n",
    "visualize_accuracy_hist(background_present_phase_acc, 'Overall Accuracy of Background condition')\n",
    "visualize_accuracy_hist(nback_acc_list, 'Exp 2.b: Accuracy of Background condition, 2-back only trials')\n",
    "print('Number of participants excluded based on conditional accuracy: ', background_exclusion_count)\n",
    "print('Total participants left for analysis: ', len(background_present_phase_acc)-background_exclusion_count)\n",
    "visualize_accuracy_hist(background_acc_list, 'Exp 2.b: Accuracy of 2-back condition, background only trials')\n",
    "print('Number of participants excluded based on conditional accuracy: ', nback_exclusion_count)\n",
    "print('Total participants left for analysis: ', len(nback_present_phase_acc)-nback_exclusion_count)"
   ]
  },
  {
   "cell_type": "code",
   "execution_count": 14,
   "metadata": {},
   "outputs": [],
   "source": [
    "def count_low_accuracy_by_task(exp, exclusion_df):\n",
    "    '''from exclusion_df, find files that were excluded due to low accuracy only,\n",
    "    with separate counts for 'task-2back' and 'task-background'.'''\n",
    "    \n",
    "    # Filter by experiment\n",
    "    exclusion_df = exclusion_df[exclusion_df['f_name'].str.contains(exp)]\n",
    "    \n",
    "    # Group by 'f_name' and aggregate the exclusion criteria\n",
    "    grouped_df = exclusion_df.groupby('f_name')['exclusion_criteria'].agg(list)\n",
    "\n",
    "    # Count entries with only 'present_accuracy < 90%' for 'task-2back'\n",
    "    count_task_2back = grouped_df[grouped_df.index.str.contains('task-2back')].apply(\n",
    "        lambda criteria: criteria == ['present_accuracy < 90%']).sum()\n",
    "    \n",
    "    # Count entries with only 'present_accuracy < 90%' for 'task-background'\n",
    "    count_task_background = grouped_df[grouped_df.index.str.contains('task-background')].apply(\n",
    "        lambda criteria: criteria == ['present_accuracy < 90%']).sum()\n",
    "    \n",
    "    return count_task_2back, count_task_background"
   ]
  },
  {
   "cell_type": "code",
   "execution_count": 15,
   "metadata": {},
   "outputs": [
    {
     "name": "stdout",
     "output_type": "stream",
     "text": [
      "Exp 2a 2back:  7\n",
      "Exp 2a background:  3\n",
      "Exp 2b 2back:  10\n",
      "Exp 2b background:  1\n"
     ]
    }
   ],
   "source": [
    "exclusion_df = pd.DataFrame(exclusion_dict)\n",
    "count_2a_2back, count_2a_background = count_low_accuracy_by_task('Exp 2a', exclusion_df)\n",
    "print('Exp 2a 2back: ', count_2a_2back)\n",
    "print('Exp 2a background: ', count_2a_background)\n",
    "count_2b_2back, count_2b_background = count_low_accuracy_by_task('Exp 2b', exclusion_df)\n",
    "print('Exp 2b 2back: ', count_2b_2back)\n",
    "print('Exp 2b background: ', count_2b_background)"
   ]
  },
  {
   "cell_type": "code",
   "execution_count": 16,
   "metadata": {},
   "outputs": [],
   "source": [
    "exclusion_df = pd.DataFrame(exclusion_dict)\n",
    "exclusion_df.to_csv('../data/excluded_files_cleaned.csv', index = False)"
   ]
  },
  {
   "cell_type": "code",
   "execution_count": 17,
   "metadata": {},
   "outputs": [
    {
     "name": "stdout",
     "output_type": "stream",
     "text": [
      "len files =  80\n",
      "Total N =  71\n",
      "Average accuracy:  0.9678860198226401\n",
      "# of participants with acc below 90% =  0\n",
      "Accuracy Histogram\n"
     ]
    },
    {
     "data": {
      "image/png": "[encoded data removed]",
      "text/plain": [
       "<Figure size 432x288 with 1 Axes>"
      ]
     },
     "metadata": {
      "needs_background": "light"
     },
     "output_type": "display_data"
    },
    {
     "name": "stdout",
     "output_type": "stream",
     "text": [
      "len files =  137\n",
      "Total N =  74\n",
      "Average accuracy:  0.968134801468135\n",
      "# of participants with acc below 90% =  0\n",
      "Accuracy Histogram\n"
     ]
    },
    {
     "data": {
      "image/png": "[encoded data removed]",
      "text/plain": [
       "<Figure size 432x288 with 1 Axes>"
      ]
     },
     "metadata": {
      "needs_background": "light"
     },
     "output_type": "display_data"
    },
    {
     "name": "stdout",
     "output_type": "stream",
     "text": [
      "len files =  132\n",
      "Total N =  75\n",
      "Average accuracy:  0.964814814814815\n",
      "# of participants with acc below 90% =  0\n",
      "Accuracy Histogram\n"
     ]
    },
    {
     "data": {
      "image/png": "[encoded data removed]",
      "text/plain": [
       "<Figure size 432x288 with 1 Axes>"
      ]
     },
     "metadata": {
      "needs_background": "light"
     },
     "output_type": "display_data"
    }
   ],
   "source": [
    "# Present phase accuracy after exclusion\n",
    "excluded_files = exclusion_df['f_name'].to_list()\n",
    "high_acc_exp1 = overall_acc(exp1_path, 'Exp 1 Accuracy', True, False, excluded_files)\n",
    "high_acc_exp2 = overall_acc(exp2a_path, 'Exp 2 Accuracy', False, False, excluded_files)\n",
    "high_acc_exp3 = overall_acc(exp2b_path, 'Exp 3 Accuracy', False, False, excluded_files)"
   ]
  },
  {
   "cell_type": "markdown",
   "metadata": {},
   "source": [
    "Stimuli Releated Exploratory Stuff"
   ]
  },
  {
   "cell_type": "code",
   "execution_count": 22,
   "metadata": {},
   "outputs": [],
   "source": [
    "def check_stimuli_distribution(df):\n",
    "    df = df['pictures'].dropna()\n",
    "    pic = df.values.tolist()\n",
    "    \n",
    "    current_segment_repeats = []\n",
    "    nback_repeats = []\n",
    "    previous_segments_repeats = []\n",
    "    previous_segments = []\n",
    "    \n",
    "    total_images = len(pic)  # Assuming 324 for consistency with the setup\n",
    "    segment_length = 6\n",
    "    last_two_images = []\n",
    "\n",
    "    for i in range(0, total_images, segment_length):\n",
    "        # print(i)\n",
    "        current_segment = pic[i:i+segment_length]\n",
    "        for j, image in enumerate(current_segment):\n",
    "            # Check for within-segment repeat\n",
    "            if current_segment[:j].count(image) > 0:\n",
    "                current_segment_repeats.append(image)\n",
    "            # Check for 2-back repeat, including across segments\n",
    "            if j < 2 and image in last_two_images:  # Checking 2-back across segments\n",
    "                nback_repeats.append(image)\n",
    "            elif j >= 2 and image == current_segment[j-2]:  # Regular 2-back check within the current segment\n",
    "                nback_repeats.append(image)\n",
    "            # Check for previous segment repeat\n",
    "            if image in previous_segments:\n",
    "                previous_segments_repeats.append(image)\n",
    "        previous_segments.extend(current_segment)  # Update previous segments\n",
    "        last_two_images = current_segment[-2:]\n",
    "        # print('current_segment: ', current_segment)\n",
    "        # print('current_segment_repeat: ', current_segment_repeats)\n",
    "        # print('nback_repeat: ', nback_repeats)\n",
    "        # print('previous segment: ', previous_segments_repeats)\n",
    "    # Combine all repeats into a set for uniqueness\n",
    "    all_repeats = set(current_segment_repeats + nback_repeats + previous_segments_repeats)\n",
    "\n",
    "    # Count unique unrepeated images\n",
    "    unrepeated_images = set(pic) - all_repeats  # Subtract all repeated images from the total set of images\n",
    "    unrepeated = len(unrepeated_images) / total_images\n",
    "    current_segment_repeat_pct = len(set(current_segment_repeats)) / total_images\n",
    "    nback_repeat_pct = len(set(nback_repeats)) / total_images\n",
    "    previous_segments_repeat_pct = len(set(previous_segments_repeats)) / total_images\n",
    "    #print(unrepeated+current_segment_repeat_pct+nback_repeat_pct+previous_segments_repeat_pct)\n",
    "    return unrepeated, current_segment_repeat_pct, nback_repeat_pct, previous_segments_repeat_pct\n",
    "\n"
   ]
  },
  {
   "cell_type": "code",
   "execution_count": 23,
   "metadata": {},
   "outputs": [
    {
     "name": "stdout",
     "output_type": "stream",
     "text": [
      "Unrepeated average:  0.5207037938181486\n",
      "Unrepeated range:  0.49382716049382713 0.5339506172839507\n",
      "Current segment repeat average:  0.14035324862575474\n",
      "Current segment repeat range:  0.13580246913580246 0.14814814814814814\n",
      "Nback repeat average:  0.11311615752005064\n",
      "Nback repeat range:  0.10493827160493827 0.11419753086419752\n",
      "Previous segment repeat average:  0.07175362710642508\n",
      "Previous segment repeat range:  0.05864197530864197 0.07716049382716049\n"
     ]
    }
   ],
   "source": [
    "unrepeated_list = []\n",
    "current_segment_repeat_pct_list = []\n",
    "nback_repeat_pct_list = []\n",
    "previous_segments_repeat_pct_list = []\n",
    "\n",
    "exp2a_data = glob.glob(exp2a_path+'*csv')\n",
    "for f_name in exp2a_data:\n",
    "    df = pd.read_csv(f_name)\n",
    "    file = os.path.basename(f_name)\n",
    "    unrepeated, current_segment_repeat_pct, nback_repeat_pct, previous_segments_repeat_pct = check_stimuli_distribution(df)\n",
    "    unrepeated_list.append(unrepeated)\n",
    "    current_segment_repeat_pct_list.append(current_segment_repeat_pct)\n",
    "    nback_repeat_pct_list.append(nback_repeat_pct)\n",
    "    previous_segments_repeat_pct_list.append(previous_segments_repeat_pct)\n",
    "\n",
    "print(\"Unrepeated average: \", sum(unrepeated_list)/len(unrepeated_list))\n",
    "print(\"Unrepeated range: \", min(unrepeated_list), max(unrepeated_list))\n",
    "print(\"Current segment repeat average: \", sum(current_segment_repeat_pct_list)/len(current_segment_repeat_pct_list))\n",
    "print(\"Current segment repeat range: \", min(current_segment_repeat_pct_list), max(current_segment_repeat_pct_list))\n",
    "print(\"Nback repeat average: \", sum(nback_repeat_pct_list)/len(nback_repeat_pct_list))\n",
    "print(\"Nback repeat range: \", min(nback_repeat_pct_list), max(nback_repeat_pct_list))\n",
    "print(\"Previous segment repeat average: \", sum(previous_segments_repeat_pct_list)/len(previous_segments_repeat_pct_list))\n",
    "print(\"Previous segment repeat range: \", min(previous_segments_repeat_pct_list), max(previous_segments_repeat_pct_list))\n"
   ]
  },
  {
   "cell_type": "code",
   "execution_count": null,
   "metadata": {},
   "outputs": [],
   "source": []
  }
 ],
 "metadata": {
  "kernelspec": {
   "display_name": "Python 3.8.8 ('base')",
   "language": "python",
   "name": "python3"
  },
  "language_info": {
   "codemirror_mode": {
    "name": "ipython",
    "version": 3
   },
   "file_extension": ".py",
   "mimetype": "text/x-python",
   "name": "python",
   "nbconvert_exporter": "python",
   "pygments_lexer": "ipython3",
   "version": "3.8.8"
  },
  "orig_nbformat": 4,
  "vscode": {
   "interpreter": {
    "hash": "ed3b04186b2cbbd1496140e0b8967e22f1c604d6a1ab355e4614f7c68057fa62"
   }
  }
 },
 "nbformat": 4,
 "nbformat_minor": 2
}
